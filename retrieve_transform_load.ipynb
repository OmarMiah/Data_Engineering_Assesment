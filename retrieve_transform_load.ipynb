{
 "cells": [
  {
   "cell_type": "markdown",
   "metadata": {},
   "source": [
    "# Setting Up Configs"
   ]
  },
  {
   "cell_type": "code",
   "execution_count": 1,
   "metadata": {},
   "outputs": [],
   "source": [
    "# Extract data from sqs queue\n",
    "import boto3\n",
    "import localstack_client.session as boto3\n",
    "import logging\n",
    "from botocore.exceptions import ClientError\n",
    "import json\n",
    "import psycopg2 \n",
    "import pandas as pd\n",
    "import hashlib\n",
    "from datetime import date\n",
    "import json\n",
    "import psycopg2\n",
    "\n",
    "# logger config setup\n",
    "logger = logging.getLogger()\n",
    "logging.basicConfig(level=logging.INFO,\n",
    "                    format='%(asctime)s: %(levelname)s: %(message)s')\n",
    "\n",
    "QUEUE_NAME = \"login-queue\"\n",
    "\n",
    "sqs = boto3.client('sqs')"
   ]
  },
  {
   "cell_type": "markdown",
   "metadata": {},
   "source": [
    "# Receiving Message from SQS Queue"
   ]
  },
  {
   "cell_type": "code",
   "execution_count": 2,
   "metadata": {},
   "outputs": [],
   "source": [
    "def receive_queue_message(queue_url):\n",
    "    \"\"\"\n",
    "    Retrieves one or more messages (up to 10), from the specified queue.\n",
    "    \"\"\"\n",
    "    try:\n",
    "        response = sqs.receive_message(QueueUrl=queue_url)\n",
    "    except ClientError:\n",
    "        logger.exception(\n",
    "            f'Could not receive the message from the - {queue_url}.')\n",
    "        raise\n",
    "    else:\n",
    "        return response"
   ]
  },
  {
   "cell_type": "markdown",
   "metadata": {},
   "source": [
    "# Deleting Message from SQS Queue"
   ]
  },
  {
   "cell_type": "code",
   "execution_count": 3,
   "metadata": {},
   "outputs": [],
   "source": [
    "def delete_queue_message(queue_url, receipt_handle):\n",
    "    \"\"\"\n",
    "    Deletes the specified message from the specified queue.\n",
    "    \"\"\"\n",
    "    try:\n",
    "        response = sqs.delete_message(QueueUrl=queue_url,\n",
    "                                             ReceiptHandle=receipt_handle)\n",
    "    except ClientError:\n",
    "        logger.exception(\n",
    "            f'Could not delete the meessage from the - {queue_url}.')\n",
    "        raise\n",
    "    else:\n",
    "        return response"
   ]
  },
  {
   "cell_type": "code",
   "execution_count": 4,
   "metadata": {},
   "outputs": [
    {
     "name": "stderr",
     "output_type": "stream",
     "text": [
      "2022-12-07 15:59:57,371: INFO: The message body: {\"user_id\": \"271bd27b-19e9-46c9-a5a4-7c2bb5e35cb0\", \"app_version\": \"7.87\", \"device_type\": \"ios\", \"ip\": \"224.32.130.73\", \"locale\": \"PE\", \"device_id\": \"638-34-7617\"}\n",
      "/var/folders/3d/cymknl354dd2k8z9fm_bkc5r0000gn/T/ipykernel_75838/465649151.py:16: FutureWarning: The frame.append method is deprecated and will be removed from pandas in a future version. Use pandas.concat instead.\n",
      "  df = df.append(pd.json_normalize(result_dict), ignore_index=True)\n",
      "2022-12-07 15:59:57,374: INFO: Deleting message from the queue...\n",
      "2022-12-07 15:59:57,403: INFO: Received and deleted message(s) from http://localhost:4566/000000000000/login-queue.\n"
     ]
    }
   ],
   "source": [
    "if __name__ == '__main__':\n",
    "    # CONSTANTS\n",
    "    QUEUE_URL = f'http://localhost:4566/000000000000/{QUEUE_NAME}'.format()\n",
    "    df = pd.DataFrame()\n",
    "\n",
    "    messages = receive_queue_message(QUEUE_URL)\n",
    "\n",
    "    for msg in messages['Messages']:\n",
    "       \n",
    "        msg_body = msg['Body']\n",
    "        receipt_handle = msg['ReceiptHandle']\n",
    "        result_dict = json.loads(msg_body)\n",
    "\n",
    "        logger.info(f'The message body: {msg_body}')\n",
    "        \n",
    "        df = df.append(pd.json_normalize(result_dict), ignore_index=True)\n",
    "            \n",
    "        logger.info('Deleting message from the queue...')\n",
    "\n",
    "        delete_queue_message(QUEUE_URL, receipt_handle)\n",
    "      \n",
    "    logger.info(f'Received and deleted message(s) from {QUEUE_URL}.')"
   ]
  },
  {
   "cell_type": "code",
   "execution_count": 6,
   "metadata": {},
   "outputs": [
    {
     "data": {
      "text/plain": [
       "str"
      ]
     },
     "execution_count": 6,
     "metadata": {},
     "output_type": "execute_result"
    }
   ],
   "source": [
    "type(msg_body)"
   ]
  },
  {
   "cell_type": "markdown",
   "metadata": {},
   "source": [
    "# Time to mask data"
   ]
  },
  {
   "cell_type": "code",
   "execution_count": 20,
   "metadata": {},
   "outputs": [],
   "source": [
    "# applying a library called hashlib\n",
    "\n",
    "df.rename(columns = {'ip':'masked_ip', 'device_id':'masked_device_id'}, inplace = True)\n",
    "\n",
    "# Convert column to string\n",
    "df['masked_ip'] = df['masked_ip'].astype(str)\n",
    "# Apply hashing function to the column\n",
    "df['masked_ip'] = df['masked_ip'].apply(\n",
    "    lambda x: \n",
    "        hashlib.sha256(x.encode()).hexdigest()\n",
    ")\n",
    "\n",
    "# Convert column to string\n",
    "df['masked_device_id'] = df['masked_device_id'].astype(str)\n",
    "# Apply hashing function to the column\n",
    "df['masked_device_id'] = df['masked_device_id'].apply(\n",
    "    lambda x: \n",
    "        hashlib.sha256(x.encode()).hexdigest()\n",
    ")\n",
    "\n"
   ]
  },
  {
   "cell_type": "code",
   "execution_count": 21,
   "metadata": {},
   "outputs": [],
   "source": [
    "user_id = df['user_id'].values[0]\n",
    "app_version = df['app_version'].values[0]\n",
    "device_type = df['device_type'].values[0]\n",
    "masked_ip = df['masked_ip'].values[0]\n",
    "locale = df['locale'].values[0]\n",
    "masked_device_id = df['masked_device_id'].values[0]\n",
    "create_date = date.today()"
   ]
  },
  {
   "cell_type": "markdown",
   "metadata": {},
   "source": [
    "# Importing from json to PSQL"
   ]
  },
  {
   "cell_type": "code",
   "execution_count": 22,
   "metadata": {},
   "outputs": [],
   "source": [
    "\n",
    "\n",
    "import psycopg2\n",
    "\n",
    "# establishing the connection\n",
    "conn = psycopg2.connect(\n",
    "    database=\"postgres\",\n",
    "    user=\"postgres\",\n",
    "    password=\"postgres\",\n",
    "    host=\"localhost\",\n",
    "    port=\"5432\",\n",
    ")\n",
    "\n",
    "# Creating a cursor object using the cursor() method\n",
    "conn.autocommit = True\n",
    "cursor = conn.cursor()\n",
    "\n",
    "# # Issue uploading app_version so will convert column to a varchar\n",
    "# sql_altertable = \"\"\"ALTER TABLE user_logins ALTER COLUMN app_version TYPE varchar (255);\"\"\"\n",
    "# cursor.execute(sql_altertable)\n",
    "\n",
    "sql_altertable2 = \"\"\"ALTER TABLE user_logins ALTER COLUMN locale TYPE varchar (255);\"\"\"\n",
    "cursor.execute(sql_altertable2)\n",
    "\n",
    "# sql_altertable3 = \"\"\"ALTER TABLE user_logins ALTER COLUMN device_type TYPE varchar (255);\"\"\"\n",
    "# cursor.execute(sql_altertable3)\n",
    "\n",
    "# # Inserting data into the user_logins table\n",
    "sql = f\"\"\"INSERT INTO user_logins(user_id, device_type, masked_ip, masked_device_id,\n",
    "   locale, app_version, create_date) VALUES ('{user_id}' ,'{device_type}','{masked_ip}','{masked_device_id}','{locale}' ,'{app_version}','{create_date}')\"\"\"\n",
    "\n",
    "cursor.execute(sql)\n",
    "\n",
    "# cursor.execute(\"SELECT * FROM user_logins\")\n",
    "# db_name = cursor.fetchall()\n",
    "\n",
    "conn.commit()\n",
    "conn.close()"
   ]
  },
  {
   "cell_type": "markdown",
   "metadata": {},
   "source": [
    "# Resources\n",
    "- https://hands-on.cloud/working-with-sqs-in-python-using-boto3/#h-read-and-delete-messages-from-the-sqs-queue\n",
    "- https://towardsdatascience.com/anonymise-sensitive-data-in-a-pandas-dataframe-column-with-hashlib-8e7ef397d91f"
   ]
  }
 ],
 "metadata": {
  "kernelspec": {
   "display_name": "Python 3.10.8 64-bit",
   "language": "python",
   "name": "python3"
  },
  "language_info": {
   "codemirror_mode": {
    "name": "ipython",
    "version": 3
   },
   "file_extension": ".py",
   "mimetype": "text/x-python",
   "name": "python",
   "nbconvert_exporter": "python",
   "pygments_lexer": "ipython3",
   "version": "3.10.8"
  },
  "orig_nbformat": 4,
  "vscode": {
   "interpreter": {
    "hash": "aee8b7b246df8f9039afb4144a1f6fd8d2ca17a180786b69acc140d282b71a49"
   }
  }
 },
 "nbformat": 4,
 "nbformat_minor": 2
}
